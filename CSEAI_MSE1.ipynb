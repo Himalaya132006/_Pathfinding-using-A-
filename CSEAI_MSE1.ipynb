{
  "nbformat": 4,
  "nbformat_minor": 0,
  "metadata": {
    "colab": {
      "provenance": []
    },
    "kernelspec": {
      "name": "python3",
      "display_name": "Python 3"
    },
    "language_info": {
      "name": "python"
    }
  },
  "cells": [
    {
      "cell_type": "code",
      "execution_count": 2,
      "metadata": {
        "colab": {
          "base_uri": "https://localhost:8080/"
        },
        "id": "nFYiE5NWi9Ir",
        "outputId": "aaa83b72-9f16-4cc6-b331-7a957340bf9a"
      },
      "outputs": [
        {
          "output_type": "stream",
          "name": "stdout",
          "text": [
            "Path found: [(0, 0), (1, 0), (2, 0), (2, 1), (2, 2), (3, 2), (3, 3), (3, 4)]\n"
          ]
        }
      ],
      "source": [
        "#Path finding using A* Algorithm\n",
        "import heapq\n",
        "\n",
        "# This function calculates the \"guess\" of how far we are from the goal.\n",
        "# We're using the Manhattan distance because it's easy to calculate and works well in grids.\n",
        "def heuristic(a, b):\n",
        "    return abs(a[0] - b[0]) + abs(a[1] - b[1])\n",
        "\n",
        "# Main A* function\n",
        "def astar(grid, start, end):\n",
        "    rows, cols = len(grid), len(grid[0])\n",
        "\n",
        "    # Priority queue to keep track of nodes to explore\n",
        "    # We use a heap to make sure the node with the lowest cost is explored first\n",
        "    open_set = []\n",
        "    heapq.heappush(open_set, (0, start))  # (total cost, node)\n",
        "\n",
        "    # Keeps track of which node led to the current node (used to reconstruct the path)\n",
        "    came_from = {}\n",
        "\n",
        "    # g_score = Actual shortest distance from start to this node\n",
        "    g_score = {start: 0}\n",
        "\n",
        "    # f_score = Estimated total cost (actual distance + heuristic guess)\n",
        "    f_score = {start: heuristic(start, end)}\n",
        "\n",
        "    while open_set:\n",
        "        # Pop the node with the lowest f_score from the queue\n",
        "        _, current = heapq.heappop(open_set)\n",
        "\n",
        "        # If we've reached the target, we're done!\n",
        "        if current == end:\n",
        "            path = []\n",
        "            while current in came_from:\n",
        "                path.append(current)\n",
        "                current = came_from[current]\n",
        "            path.append(start)  # Include the starting point\n",
        "            path.reverse()  # Reverse to get the path from start to end\n",
        "            return path\n",
        "\n",
        "        # These are the 4 possible moves → Right, Down, Left, Up\n",
        "        neighbors = [(0, 1), (1, 0), (0, -1), (-1, 0)]\n",
        "\n",
        "        for dx, dy in neighbors:\n",
        "            # New coordinates after the move\n",
        "            neighbor = (current[0] + dx, current[1] + dy)\n",
        "\n",
        "            # Check if it's within the grid and not an obstacle\n",
        "            if 0 <= neighbor[0] < rows and 0 <= neighbor[1] < cols and grid[neighbor[0]][neighbor[1]] == 0:\n",
        "\n",
        "                # Cost to move from current node to neighbor → here it's always 1 step\n",
        "                tentative_g_score = g_score[current] + 1\n",
        "\n",
        "                # If this is the shortest path to the neighbor so far\n",
        "                if tentative_g_score < g_score.get(neighbor, float('inf')):\n",
        "                    # Update the shortest path to this neighbor\n",
        "                    came_from[neighbor] = current\n",
        "                    g_score[neighbor] = tentative_g_score\n",
        "                    # Total estimated cost = real cost + heuristic guess\n",
        "                    f_score[neighbor] = tentative_g_score + heuristic(neighbor, end)\n",
        "                    # Add it to the queue to explore it later\n",
        "                    heapq.heappush(open_set, (f_score[neighbor], neighbor))\n",
        "\n",
        "    # If we explored everything and didn't find the goal, return None\n",
        "    return None\n",
        "\n",
        "# Example grid (0 = open path, 1 = obstacle)\n",
        "grid = [\n",
        "    [0, 1, 0, 0, 0],  # 0 → Walkable, 1 → Blocked\n",
        "    [0, 1, 0, 1, 0],\n",
        "    [0, 0, 0, 1, 0],\n",
        "    [1, 1, 0, 0, 0],\n",
        "]\n",
        "\n",
        "# Starting and ending points\n",
        "start = (0, 0)  # Top-left corner\n",
        "end = (3, 4)    # Bottom-right corner\n",
        "\n",
        "# Run the A* function\n",
        "path = astar(grid, start, end)\n",
        "\n",
        "# Output the path\n",
        "if path:\n",
        "    print(\"Path found:\", path)\n",
        "else:\n",
        "    print(\"No path found\")\n"
      ]
    }
  ]
}